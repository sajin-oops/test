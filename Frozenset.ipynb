{
 "cells": [
  {
   "cell_type": "code",
   "execution_count": 9,
   "id": "356748a2-6be6-461e-b9a4-aa44492a9119",
   "metadata": {},
   "outputs": [
    {
     "name": "stdout",
     "output_type": "stream",
     "text": [
      "True\n",
      "True\n",
      "True\n",
      "False\n",
      "frozenset({'Mango', 'Apple', 'Graph'})\n"
     ]
    }
   ],
   "source": [
    "#Frozenset() - it is a immutable set\n",
    "fruits = frozenset([\"Apple\",\"Mango\",\"Graph\"])\n",
    "print(\"Apple\" in fruits)\n",
    "print(\"Mango\" in fruits)\n",
    "print(\"Graph\" in fruits)\n",
    "print(\"Orange\" in fruits)\n",
    "print(fruits)"
   ]
  },
  {
   "cell_type": "code",
   "execution_count": 4,
   "id": "948adf8c-86a8-4eda-b825-ad1fee937ccc",
   "metadata": {},
   "outputs": [
    {
     "ename": "AttributeError",
     "evalue": "'frozenset' object has no attribute 'add'",
     "output_type": "error",
     "traceback": [
      "\u001b[1;31m---------------------------------------------------------------------------\u001b[0m",
      "\u001b[1;31mAttributeError\u001b[0m                            Traceback (most recent call last)",
      "Cell \u001b[1;32mIn[4], line 2\u001b[0m\n\u001b[0;32m      1\u001b[0m \u001b[38;5;66;03m# It is immutable still we try to add \u001b[39;00m\n\u001b[1;32m----> 2\u001b[0m fruits\u001b[38;5;241m.\u001b[39madd(\u001b[38;5;124m\"\u001b[39m\u001b[38;5;124mCherry\u001b[39m\u001b[38;5;124m\"\u001b[39m)\n",
      "\u001b[1;31mAttributeError\u001b[0m: 'frozenset' object has no attribute 'add'"
     ]
    }
   ],
   "source": [
    "# It is immutable still we try to add \n",
    "fruits.add(\"Cherry\")"
   ]
  },
  {
   "cell_type": "code",
   "execution_count": 16,
   "id": "302a50fc-5231-4c60-8d9a-58c9e65a0fd8",
   "metadata": {},
   "outputs": [
    {
     "name": "stdout",
     "output_type": "stream",
     "text": [
      "frozenset({'Sajin', 'Aaron', 'Lijin'})\n",
      "The frozen set object is : frozenset({'Sajin', 'Aaron', 'Lijin'})\n",
      "['Sajin', 'Lijin', 'Aaron', 'Sajin']\n"
     ]
    }
   ],
   "source": [
    "names = [\"Sajin\",\"Lijin\",\"Aaron\",\"Sajin\"]\n",
    "frozen_set = frozenset(names)\n",
    "print(frozen_set)\n",
    "print(f\"The frozen set object is : {frozen_set}\")\n",
    "print(names)"
   ]
  },
  {
   "cell_type": "code",
   "execution_count": null,
   "id": "f47350a3-b22e-4325-84b8-2eeadbfa7905",
   "metadata": {},
   "outputs": [],
   "source": []
  }
 ],
 "metadata": {
  "kernelspec": {
   "display_name": "Python 3 (ipykernel)",
   "language": "python",
   "name": "python3"
  },
  "language_info": {
   "codemirror_mode": {
    "name": "ipython",
    "version": 3
   },
   "file_extension": ".py",
   "mimetype": "text/x-python",
   "name": "python",
   "nbconvert_exporter": "python",
   "pygments_lexer": "ipython3",
   "version": "3.12.7"
  },
  "widgets": {
   "application/vnd.jupyter.widget-state+json": {
    "state": {},
    "version_major": 2,
    "version_minor": 0
   }
  }
 },
 "nbformat": 4,
 "nbformat_minor": 5
}
